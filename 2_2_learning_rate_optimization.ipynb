{
  "nbformat": 4,
  "nbformat_minor": 0,
  "metadata": {
    "colab": {
      "name": "2-2-learning-rate-optimization.ipynb",
      "provenance": [],
      "collapsed_sections": [],
      "toc_visible": true,
      "authorship_tag": "ABX9TyNeaHCV7lZfA2RlYy5TLYIh"
    },
    "kernelspec": {
      "name": "python3",
      "display_name": "Python 3"
    },
    "language_info": {
      "name": "python"
    }
  },
  "cells": [
    {
      "cell_type": "markdown",
      "metadata": {
        "id": "Adnxs5kDc2pd"
      },
      "source": [
        "# (day2) Section 2: 学習率最適化問題\n",
        "\n",
        "本書は、「深層学習前編（day2）レポート」の、「Section 2: 学習率最適化問題」についてのものです。\n"
      ]
    },
    {
      "cell_type": "markdown",
      "metadata": {
        "id": "9_jMHYWudCh3"
      },
      "source": [
        "## 1. 要点まとめ\n"
      ]
    },
    {
      "cell_type": "markdown",
      "metadata": {
        "id": "feL7EoVRgBWN"
      },
      "source": [
        "### 学習率\n",
        "\n",
        "勾配降下法の学習率は、大き過ぎても、小さ過ぎてもいけない。\n",
        "\n",
        "$$\n",
        "\\textbf{w}^{t+1} = \\textbf{w}^{t} - \\epsilon \\nabla E\n",
        "$$\n",
        "\n",
        "$$\n",
        "\\epsilon: 学習率\n",
        "$$\n",
        "\n",
        "- 大きい場合<br>\n",
        "発散\n",
        "\n",
        "- 小さい場合<br>\n",
        "  - 非効率\n",
        "  - 大域的局所最適値てばない、局所最適解に収束\n",
        "\n",
        "よって、学習率を最適化する。最適化する手法は、以下の通り。\n",
        "\n",
        "- モメンタム\n",
        "- AdaGrad\n",
        "- RMSProp\n",
        "- Adam\n"
      ]
    },
    {
      "cell_type": "markdown",
      "metadata": {
        "id": "mIIy0PKCgJvt"
      },
      "source": [
        "### 学習率最適化手法\n"
      ]
    },
    {
      "cell_type": "markdown",
      "metadata": {
        "id": "Mk3buBqDg9MR"
      },
      "source": [
        "#### モメンタム\n",
        "\n",
        "$$\n",
        "V_t = \\mu V_{t-1} - \\epsilon \\nabla E\n",
        "$$\n",
        "\n",
        "$$\n",
        "\\textbf{w}^(t+1) = \\textbf{w}^(t) + V_t\n",
        "$$\n",
        "\n",
        "$$\n",
        "慣性: \\mu\n",
        "$$\n"
      ]
    },
    {
      "cell_type": "markdown",
      "metadata": {
        "id": "Yt0nP2A3hBCp"
      },
      "source": [
        "#### AdaGrad\n"
      ]
    },
    {
      "cell_type": "markdown",
      "metadata": {
        "id": "guihOXsGhE-B"
      },
      "source": [
        "#### RMSProp\n"
      ]
    },
    {
      "cell_type": "markdown",
      "metadata": {
        "id": "pWr7dzruhJWf"
      },
      "source": [
        "#### Adam\n"
      ]
    },
    {
      "cell_type": "markdown",
      "metadata": {
        "id": "dn0nkaSx8-Em"
      },
      "source": [
        "## 2. 確認テスト\n",
        "\n",
        "以降の \"page. \" は、講義資料のページの番号です。\n"
      ]
    },
    {
      "cell_type": "markdown",
      "metadata": {
        "id": "Kqh2Tek9hO_E"
      },
      "source": [
        "### Page. 44\n"
      ]
    }
  ]
}