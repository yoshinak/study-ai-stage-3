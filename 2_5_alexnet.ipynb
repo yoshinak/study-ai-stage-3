{
  "nbformat": 4,
  "nbformat_minor": 0,
  "metadata": {
    "colab": {
      "name": "2-5-alexnet.ipynb",
      "provenance": [],
      "collapsed_sections": [],
      "toc_visible": true,
      "authorship_tag": "ABX9TyNooBQAet+MAlQIDAiV6ltN"
    },
    "kernelspec": {
      "name": "python3",
      "display_name": "Python 3"
    },
    "language_info": {
      "name": "python"
    }
  },
  "cells": [
    {
      "cell_type": "markdown",
      "metadata": {
        "id": "Adnxs5kDc2pd"
      },
      "source": [
        "# (day2) Section 5: 最新のCNN\n",
        "\n",
        "本書は、「深層学習前編（day2）レポート」の、「Section 5: 最新のCNN」についてのものです。\n"
      ]
    },
    {
      "cell_type": "markdown",
      "metadata": {
        "id": "9_jMHYWudCh3"
      },
      "source": [
        "## 1. 要点まとめ\n"
      ]
    },
    {
      "cell_type": "markdown",
      "metadata": {
        "id": "TdGkBqJKwyQZ"
      },
      "source": [
        "### AlexNet\n"
      ]
    },
    {
      "cell_type": "markdown",
      "metadata": {
        "id": "7rzS-OUmyTxA"
      },
      "source": [
        "### モデルの構造\n",
        "\n",
        "5層の畳み込み層、3層のプーリング層、3層の全結合層で構成される。\n",
        "\n",
        "- NOTE: [AlexNet - Wikipedia](https://ja.wikipedia.org/wiki/AlexNet)\n"
      ]
    },
    {
      "cell_type": "markdown",
      "metadata": {
        "id": "FfY2vm--y6aE"
      },
      "source": [
        "### 畳み込み層から全結合層\n",
        "\n",
        "畳み込み層から全結合層に移行する方法は、以下の 3 種類。\n",
        "Flatten より、 Global Max Pooling と Global Average Pooling の方が性能が良い。\n",
        "\n",
        "AlexNet では Flatten を使用。\n",
        "\n",
        "#### Flatten\n",
        "\n",
        "\"Flatten\" によって、 1 次元の行列に変換する方法。\n",
        "\n",
        "例えば、 縦: 13 x 横: 13 x チャンネル: 256 の行列を、 43,264 の 1 次元の行列に変換する。\n",
        "\n",
        "#### Global Max Pooling\n",
        "\n",
        "チャンネルの中から、最大の要素を選択。\n",
        "\n",
        "先の例の 13 x 13 x 256 の、 1チャンネル: 13 x 13 の中の最大の要素を選択する。\n",
        "\n",
        "#### Global Average Pooling\n",
        "\n",
        "チャンネルの平均値を計算。\n"
      ]
    },
    {
      "cell_type": "markdown",
      "metadata": {
        "id": "iKOgq7C23TGI"
      },
      "source": [
        "### 過学習を防ぐ対策\n",
        "\n",
        "全結合層でドロップアウト。\n",
        "他のモデルでも、全結合層でドロップアウトをすることが多い。\n"
      ]
    }
  ]
}