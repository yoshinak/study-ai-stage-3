{
  "nbformat": 4,
  "nbformat_minor": 0,
  "metadata": {
    "colab": {
      "name": "2-4-convolutional-network.ipynb",
      "provenance": [],
      "collapsed_sections": [],
      "toc_visible": true,
      "authorship_tag": "ABX9TyO04FHPwJRXqoh68XLHnHJ8"
    },
    "kernelspec": {
      "name": "python3",
      "display_name": "Python 3"
    },
    "language_info": {
      "name": "python"
    }
  },
  "cells": [
    {
      "cell_type": "markdown",
      "metadata": {
        "id": "Adnxs5kDc2pd"
      },
      "source": [
        "# (day2) Section 4: 畳み込みニューラルネットワークの概念\n",
        "\n",
        "本書は、「深層学習前編（day2）レポート」の、「Section 4: 畳み込みニューラルネットワークの概念」についてのものです。\n"
      ]
    },
    {
      "cell_type": "markdown",
      "metadata": {
        "id": "9_jMHYWudCh3"
      },
      "source": [
        "## 1. 要点まとめ\n"
      ]
    },
    {
      "cell_type": "markdown",
      "metadata": {
        "id": "Mun5TARVGNRh"
      },
      "source": [
        "### 畳み込みニューラルネットワーク ( CNN ) の構造\n",
        "\n",
        "CNN の層は、以下からなる。\n",
        "\n",
        "- 入力値\n",
        "\n",
        "- 畳み込み層\n",
        "\n",
        "- プーリング層\n",
        "\n",
        "- 全結合層\n",
        "\n",
        "- 主力層\n",
        "\n",
        "CNN の例として、最初期のものが、[LeNet](https://ja.wikipedia.org/wiki/LeNet) 。\n"
      ]
    },
    {
      "cell_type": "markdown",
      "metadata": {
        "id": "k4YOhPZvGoOg"
      },
      "source": [
        "### 畳み込み層 ( Convolutional layer )\n",
        "\n",
        "画像 ( 縦、横、チャンネル ) の 3 次元のデータを学習する。\n",
        "\n",
        "チャンネルは、1 つの次元に、複数のデータがあこと。\n",
        "\n",
        "入力画像にフィルター ( 重み ) を掛けて、出力画像を得る。\n",
        "\n",
        "入力画像と、フィルター、出力画像は行列。\n",
        "\n",
        "(パディング、ストライドは後述するとして、)\n",
        "入力画像の行列の要素成分と、同じ位置のフィルターの要素成分を掛けた総和が、\n",
        "出力画像の要素成分となる。\n",
        "\n"
      ]
    },
    {
      "cell_type": "markdown",
      "metadata": {
        "id": "VJUh7juBUKte"
      },
      "source": [
        "(以下、筆者の想定する) 数式は以下の通り。\n",
        "\n",
        "出力画像 $ \\textbf{y} $ の 1つ目の要素成分は、<br>\n",
        "入力画像 $ \\textbf{x} $ と、\n",
        "フィルター $ \\textbf{w} $ として、\n",
        "\n",
        "i = (1, ..., I): フィルターの行列の、行数<br>\n",
        "j = (1, ..., J): フィルターの行列の、列数<br>\n",
        "とすると、\n",
        "\n",
        "$$\n",
        "y_{11}\n",
        "=\n",
        "\\sum_{i=1}^I \\sum_{j=1}^J x_{ij} w_{ij}\n",
        "$$\n",
        "\n",
        "これを、ストライド:1 とした場合、入力画像を列方向に 1 移動して繰り返す。\n",
        "\n",
        "$$\n",
        "y_{12}\n",
        "=\n",
        "\\sum_{i=1}^I \\sum_{j=1}^J x_{i(j+1)} w_{ij}\n",
        "$$\n"
      ]
    },
    {
      "cell_type": "markdown",
      "metadata": {
        "id": "69deIdbfJ4wk"
      },
      "source": [
        "#### バイアス\n",
        "\n",
        "入力画像にフィルターを掛けて得た結果に、バイアスを加えて、出力画像にする。\n",
        "\n",
        "「Section 3: 過学習」までの NN における、\n",
        "\n",
        "$$\n",
        "\\textbf{x} \\textbf{w} + \\textbf{b}\n",
        "$$\n",
        "\n",
        "のバイアス ( $ b $ ) を加えることに相当。\n"
      ]
    },
    {
      "cell_type": "markdown",
      "metadata": {
        "id": "UYoa_vULJ8cw"
      },
      "source": [
        "#### パディング\n",
        "\n",
        "入力画像にフィルターを掛けた、出力画像は入力画像より小さいサイズになる。\n",
        "\n",
        "結果、繰り返して小さくなりすぎてしまったり、ストライドの移動で計算しにくくなったりするのを回避するため、元の入力画像に、固定値の要素成分を加える。\n",
        "\n",
        "最初の行の前と最後の行の後に、行を、<br>\n",
        "最初の列の前と最後の列の後に、列を、加える。\n",
        "\n",
        "0 で埋める、または、直近の数値で埋める。\n"
      ]
    },
    {
      "cell_type": "markdown",
      "metadata": {
        "id": "zlCDWOk2J_6o"
      },
      "source": [
        "#### ストライド\n",
        "\n",
        "畳み込み層の演算を、入力画像の位置をずらしながら行う。<br>\n",
        "移動する数は 1 とは限らず、例えば講義資料の例では、 2 の場合もある。\n",
        "\n",
        "ストライドの数を大きくすると、出力画像のサイズは小さくなる。\n"
      ]
    },
    {
      "cell_type": "markdown",
      "metadata": {
        "id": "ezzd0AtkKC-w"
      },
      "source": [
        "#### チャンネル\n",
        "\n",
        "フィルターの数。入力画像をそのフィルターの数の分、掛けて、フィルターの数と同じ数の出力画像を得る。\n",
        "\n",
        "講義の例えでは、「何人かの人に読ませる」ことで、その人の個性 ( 重み ) で読んだ結果を得ること。\n"
      ]
    },
    {
      "cell_type": "markdown",
      "metadata": {
        "id": "6eqX77WnHEz0"
      },
      "source": [
        "### プーリング層 ( Pooling layer )\n",
        "\n",
        "対象領域の Max 値 ( max poling ) 、または平均値 ( average pooling ) から成る出力値の行列を作成する。\n"
      ]
    },
    {
      "cell_type": "markdown",
      "metadata": {
        "id": "tH5VMJ2sHrQn"
      },
      "source": [
        "### 全結合層 ( Fully Connected layer ) - 出力層 ( Output layer )\n",
        "\n",
        "畳み込み層、プーリング層を経て、最後に全結合層と主力層で結果を得る。\n",
        "\n",
        "畳み込み層、プーリング層までは、特徴量の抽出のための、\n",
        "次元のつながりを保った計算。\n",
        "ここで、全結合で計算してしまうと、次元のつながりを保つことができないので、畳み込み演算をしている。\n",
        "\n",
        "全結合層からは、人間が欲しい結果を得るための計算。\n",
        "\n",
        "全結合の計算は、「Section 3: 過学習」までの NN における以下の計算のこと。\n",
        "\n",
        "$$\n",
        "\\textbf{x} \\textbf{w} + \\textbf{b}\n",
        "$$\n",
        "\n",
        "- NOTE: [畳み込みニューラルネットワーク_CNN(Vol.16)](https://products.sint.co.jp/aisia/blog/vol1-16#toc-2)<br>\n",
        "  > ノードからノードに全て結合するのが全結合で、全てでない手抜きが非全結合です。実は畳み込み層では、全結合を計算すると処理が膨大になってしまうので、非全結合で処理していたのです。 \n",
        "\n",
        "- NOTE: [Deep learningで画像認識④〜畳み込みニューラルネットワークの構成〜 - IMACEL Academy -人工知能・画像解析の技術応用に向けて-| エルピクセル株式会社](https://lp-tech.net/articles/LVB9R)<br>\n",
        "  (全結合層の説明部分)\n",
        "  > 特徴部分が取り出された画像データを一つのノードに結合し、活性化関数（後述）によって変換された値（特徴変数）を出力する。\n"
      ]
    },
    {
      "cell_type": "markdown",
      "metadata": {
        "id": "sjTwgL9Zrymi"
      },
      "source": [
        "### 画像データを高速に処理するための工夫\n",
        "\n",
        "- [An Illustrated Explanation of Performing 2D Convolutions Using Matrix Multiplications | by ___ | Medium](https://medium.com/@_init_/an-illustrated-explanation-of-performing-2d-convolutions-using-matrix-multiplications-1e8de8cd2544)<br>\n",
        "入力画像を、フィルターの大きさの範囲で対象になる要素成分を1つの行列で表現。\n",
        "\n",
        "こうしておくと、行列の内積として計算できる。\n"
      ]
    },
    {
      "cell_type": "markdown",
      "metadata": {
        "id": "dn0nkaSx8-Em"
      },
      "source": [
        "## 2. 確認テスト\n",
        "\n",
        "以降の \"page. \" は、講義資料のページの番号です。\n"
      ]
    },
    {
      "cell_type": "markdown",
      "metadata": {
        "id": "OOYqparlKPu4"
      },
      "source": [
        "### page. 95\n",
        "\n",
        "入力画像は、\n",
        "\n",
        "| 1 | 2 | 3 | 4 | 5 | 6 |\n",
        "| - | - | - | - | - | - |\n",
        "| 1 | 2 | 3 | 4 | 5 | 6 |\n",
        "| 1 | 2 | 3 | 4 | 5 | 6 |\n",
        "| 1 | 2 | 3 | 4 | 5 | 6 |\n",
        "| 1 | 2 | 3 | 4 | 5 | 6 |\n",
        "| 1 | 2 | 3 | 4 | 5 | 6 |\n",
        "\n",
        "が、パディング 1 されて、\n",
        "\n",
        "| 1 | 2 | 3 | 4 | 5 | 6 | 7 | 8 |\n",
        "| - | - | - | - | - | - | - | - |\n",
        "| 1 | 2 | 3 | 4 | 5 | 6 | 7 | 8 |\n",
        "| 1 | 2 | 3 | 4 | 5 | 6 | 7 | 8 |\n",
        "| 1 | 2 | 3 | 4 | 5 | 6 | 7 | 8 |\n",
        "| 1 | 2 | 3 | 4 | 5 | 6 | 7 | 8 |\n",
        "| 1 | 2 | 3 | 4 | 5 | 6 | 7 | 8 |\n",
        "| 1 | 2 | 3 | 4 | 5 | 6 | 7 | 8 |\n",
        "| 1 | 2 | 3 | 4 | 5 | 6 | 7 | 8 |\n",
        "\n",
        "となり、<br>\n",
        "フィルター\n",
        "\n",
        "| 1 | 2 |\n",
        "| - | - |\n",
        "| 1 | 2 |\n",
        "\n",
        "で、ストライド 1 していくから、\n",
        "\n",
        "| 1 | 2 | 3 | 4 | 5 | 6 | 7 |\n",
        "| - | - | - | - | - | - | - |\n",
        "| 1 | 2 | 3 | 4 | 5 | 6 | 7 |\n",
        "| 1 | 2 | 3 | 4 | 5 | 6 | 7 |\n",
        "| 1 | 2 | 3 | 4 | 5 | 6 | 7 |\n",
        "| 1 | 2 | 3 | 4 | 5 | 6 | 7 |\n",
        "| 1 | 2 | 3 | 4 | 5 | 6 | 7 |\n",
        "| 1 | 2 | 3 | 4 | 5 | 6 | 7 |\n",
        "\n",
        "出力画像のサイズは、 7 x 7 。\n"
      ]
    },
    {
      "cell_type": "markdown",
      "metadata": {
        "id": "T20uPK2MuwPB"
      },
      "source": [
        "#### 公式\n",
        "\n",
        "ここでは縦と横のサイズが同じなので、高さと幅をサイズとしてまとめて、\n",
        "\n",
        "$$\n",
        "\\frac{\n",
        "  入力画像サイズ + 2 \\times パディング - フィルターサイズ\n",
        "}{ストライド}\n",
        "+ 1\n",
        "$$\n",
        "\n",
        "$$\n",
        "=\n",
        "\\frac{\n",
        "  6 + 2 \\times 1 - 2\n",
        "}{1}\n",
        "+ 1\n",
        "= 7\n",
        "$$\n"
      ]
    }
  ]
}