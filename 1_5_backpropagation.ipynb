{
  "nbformat": 4,
  "nbformat_minor": 0,
  "metadata": {
    "colab": {
      "name": "1-5-backpropagation.ipynb",
      "provenance": [],
      "collapsed_sections": [],
      "toc_visible": true,
      "authorship_tag": "ABX9TyOSz5W/A0J5Qm2KioLZLWBQ"
    },
    "kernelspec": {
      "name": "python3",
      "display_name": "Python 3"
    },
    "language_info": {
      "name": "python"
    }
  },
  "cells": [
    {
      "cell_type": "markdown",
      "metadata": {
        "id": "Adnxs5kDc2pd"
      },
      "source": [
        "# Section 5: 誤差逆伝播法\n",
        "\n",
        "本書は、「深層学習前編（day1）レポート」の、「Section 5: 誤差逆伝播法」についてのものです。\n"
      ]
    },
    {
      "cell_type": "markdown",
      "metadata": {
        "id": "9_jMHYWudCh3"
      },
      "source": [
        "## 1. 要点まとめ\n"
      ]
    },
    {
      "cell_type": "markdown",
      "metadata": {
        "id": "NaNAxFrqKD5v"
      },
      "source": [
        "### 誤差勾配の計算\n",
        "\n",
        "出力層から順に微分する。得た値を使用して、さらに前の層のパラメータの微分を行う。\n"
      ]
    },
    {
      "cell_type": "markdown",
      "metadata": {
        "id": "O70neptAKbD7"
      },
      "source": [
        "#### 出力層 $ (2) $ から 中間層 $ (1) $ にかけての計算例\n"
      ]
    },
    {
      "cell_type": "markdown",
      "metadata": {
        "id": "Sd8xqcASKq53"
      },
      "source": [
        "##### 出力層 $ (2) $\n",
        "\n",
        "1. 誤差関数の微分<br>\n",
        "$\n",
        "\\frac{\\partial{E}}{\\partial{\\textbf{y}}} E(\\textbf{y})\n",
        "$\n",
        "\n",
        "2. 出力層活性化関数の微分<br>\n",
        "$\n",
        "\\frac{\\partial{E}}{\\partial{\\textbf{y}}}\n",
        "\\frac{\\partial{\\textbf{y}}}{\\partial{\\textbf{u}^{(2)}}}\n",
        "f^{(2)} (\\textbf{u})\n",
        "$\n",
        "\n",
        "3. 総入力の微分\n",
        "  1. 重みパラメータの微分<br>\n",
        "$\n",
        "\\frac{\\partial{E}}{\\partial{\\textbf{y}}}\n",
        "\\frac{\\partial{\\textbf{y}}}{\\partial{\\textbf{u}^{(2)}}}\n",
        "\\frac{\\partial{\\textbf{u}}}{\\partial{\\textbf{w}}^{(2)}}\n",
        "(\n",
        "  \\textbf{w}^{(2)} \\textbf{z}^{(1)} + \\textbf{b}^{(2)}\n",
        ")\n",
        "=\n",
        "\\frac{\\partial{E}}{\\partial{\\textbf{w}}^{(2)}}\n",
        "$\n",
        "  2. バイアスの微分<br>\n",
        "$\n",
        "\\frac{\\partial{E}}{\\partial{\\textbf{y}}}\n",
        "\\frac{\\partial{\\textbf{y}}}{\\partial{\\textbf{u}^{(2)}}}\n",
        "\\frac{\\partial{\\textbf{u}}}{\\partial{\\textbf{b}}^{(2)}}\n",
        "(\n",
        "  \\textbf{w}^{(2)} \\textbf{z}^{(1)} + \\textbf{b}^{(2)}\n",
        ")\n",
        "=\n",
        "\\frac{\\partial{E}}{\\partial{\\textbf{b}}^{(2)}}\n",
        "$\n"
      ]
    },
    {
      "cell_type": "markdown",
      "metadata": {
        "id": "389s_V-xKx4e"
      },
      "source": [
        "##### 中間層 $ (1) $\n",
        "\n",
        "1. 中間層出力の微分<br>\n",
        "$\n",
        "\\frac{\\partial{E}}{\\partial{\\textbf{y}}}\n",
        "\\frac{\\partial{\\textbf{y}}}{\\partial{\\textbf{u}^{(2)}}}\n",
        "\\frac{\\partial{\\textbf{u}^{(2)}}}{\\partial{\\textbf{z}}}\n",
        "(\n",
        "  \\textbf{w}^{(2)} \\textbf{z}^{(1)} + \\textbf{b}^{(2)}\n",
        ")\n",
        "$\n"
      ]
    },
    {
      "cell_type": "markdown",
      "metadata": {
        "id": "qU-CCnbOiWAU"
      },
      "source": [
        "2. 中間層活性化関数の微分<br>\n",
        "$\n",
        "\\frac{\\partial{E}}{\\partial{\\textbf{y}}}\n",
        "\\frac{\\partial{\\textbf{y}}}{\\partial{\\textbf{u}^{(2)}}}\n",
        "\\frac{\\partial{\\textbf{u}^{(2)}}}{\\partial{\\textbf{z}}}\n",
        "\\frac{\\partial{\\textbf{z}}}{\\partial{\\textbf{u}^{(1)}}}\n",
        "f^{(1)} ( \\textbf{u} )\n",
        "$\n"
      ]
    },
    {
      "cell_type": "markdown",
      "metadata": {
        "id": "ba13IQcrjKpU"
      },
      "source": [
        "3. 総入力の微分\n",
        "  1. 重みパラメータの微分<br>\n",
        "$\n",
        "\\frac{\\partial{E}}{\\partial{\\textbf{y}}}\n",
        "\\frac{\\partial{\\textbf{y}}}{\\partial{\\textbf{u}^{(2)}}}\n",
        "\\frac{\\partial{\\textbf{u}^{(2)}}}{\\partial{\\textbf{z}}}\n",
        "\\frac{\\partial{\\textbf{z}}}{\\partial{\\textbf{u}^{(1)}}}\n",
        "\\frac{\\partial{\\textbf{u}^{(1)}}}{\\partial{\\textbf{w}^{(1)}}}\n",
        "(\n",
        "  \\textbf{w}^{(1)} \\textbf{x} + \\textbf{b}^{(1)}\n",
        ")\n",
        "=\n",
        "\\frac{\\partial{E}}{\\partial{\\textbf{w}}^{(1)}}\n",
        "$\n",
        "  2. バイアスの微分<br>\n",
        "$\n",
        "\\frac{\\partial{E}}{\\partial{\\textbf{y}}}\n",
        "\\frac{\\partial{\\textbf{y}}}{\\partial{\\textbf{u}^{(2)}}}\n",
        "\\frac{\\partial{\\textbf{u}^{(2)}}}{\\partial{\\textbf{z}}}\n",
        "\\frac{\\partial{\\textbf{z}}}{\\partial{\\textbf{u}^{(1)}}}\n",
        "\\frac{\\partial{\\textbf{u}^{(1)}}}{\\partial{\\textbf{b}^{(1)}}}\n",
        "(\n",
        "  \\textbf{w}^{(1)} \\textbf{x} + \\textbf{b}^{(1)}\n",
        ")\n",
        "=\n",
        "\\frac{\\partial{E}}{\\partial{\\textbf{b}}^{(1)}}\n",
        "$\n"
      ]
    },
    {
      "cell_type": "markdown",
      "metadata": {
        "id": "Z_rBbh81KMpX"
      },
      "source": [
        "### 数式\n",
        "\n"
      ]
    },
    {
      "cell_type": "markdown",
      "metadata": {
        "id": "HP-RA4iNMYIT"
      },
      "source": [
        "#### 前提\n",
        "\n",
        "- 誤差関数<br>\n",
        "$\n",
        "E(\\textbf{y})\n",
        "=\n",
        "\\frac{1}{2}\n",
        "\\sum_{j=1}^J\n",
        "(\n",
        "  y_j - d_j\n",
        ")^2\n",
        "=\n",
        "\\Vert \\textbf{y} - \\textbf{d} \\Vert^2\n",
        "$<br>\n",
        "$ j =  1 \\cdots J $: 中間ノードのインデックス\n",
        "\n",
        "- 出力層の活性化関数 = 恒等写像<br>\n",
        "$\n",
        "\\textbf{y} = \\textbf{u}^{(L)}\n",
        "$<br>\n",
        "$ L $: 層のインデックスの最大値(最後の層 = 出力層)\n",
        "\n",
        "- 総入力の計算<br>\n",
        "$\n",
        "\\textbf{u}^{(l)} = \\textbf{w}^{(l)} \\textbf{z}^{(l-1)} + \\textbf{b}^{(l)}\n",
        "\\tag{1}\n",
        "$<br>\n",
        "$ l =  1 \\cdots L $: 層のインデックス\n"
      ]
    },
    {
      "cell_type": "markdown",
      "metadata": {
        "id": "7u8d--aAMV54"
      },
      "source": [
        "#### 誤差逆伝播法の数式\n",
        "\n",
        "$$\n",
        "\\frac{\\partial{E}}{\\partial{w_{ji}}^{(2)}}\n",
        "=\n",
        "\\frac{\\partial{E}}{\\partial{\\textbf{y}}}\n",
        "\\frac{\\partial{\\textbf{y}}}{\\partial{\\textbf{u}}}\n",
        "\\frac{\\partial{\\textbf{u}}}{\\partial{w_{ji}}^{(2)}}\n",
        "\\tag{2}\n",
        "$$"
      ]
    },
    {
      "cell_type": "markdown",
      "metadata": {
        "id": "onQZ0-yUNol8"
      },
      "source": [
        "$$\n",
        "\\frac{\\partial{E(\\textbf{y})}}{\\partial{\\textbf{y}}}\n",
        "=\n",
        "\\frac{\\partial}{\\partial{\\textbf{y}}}\n",
        "\\frac{1}{2} \\Vert \\textbf{y} - \\textbf{d} \\Vert^2 = \\textbf{y} - \\textbf{d}\n",
        "\\tag{3}\n",
        "$$\n"
      ]
    },
    {
      "cell_type": "markdown",
      "metadata": {
        "id": "OoAXhDfnOfzN"
      },
      "source": [
        "$$\n",
        "\\frac{\\partial{\\textbf{y}(\\textbf{u})}}{\\partial{\\textbf{u}}}\n",
        "=\n",
        "\\frac{\\partial{\\textbf{u}}}{\\partial{\\textbf{u}}} = 1\n",
        "\\tag{4}\n",
        "$$\n"
      ]
    },
    {
      "cell_type": "markdown",
      "metadata": {
        "id": "So_MLmpiSgo5"
      },
      "source": [
        "ある $ l $ 層の、中間層ノード $ j $ 、入力層ノード $ i $ における、<br>\n",
        "重みパラメータ $ w_{ji} $ についての微分は、 $ (1) $ より、\n",
        "\n",
        "$$\n",
        "\\frac{\\partial{\\textbf{u}(\\textbf{w})}}{\\partial{w_{ji}}}\n",
        "=\n",
        "\\frac{\\partial}\n",
        "{\\partial{w_{ji}}}\n",
        "(\n",
        "  \\textbf{w}^{(l)} \\textbf{z}^{(l-1)} + \\textbf{b}^{(l)}\n",
        ")\n",
        "$$\n"
      ]
    },
    {
      "cell_type": "markdown",
      "metadata": {
        "id": "VBd5NNZRXht-"
      },
      "source": [
        "$$\n",
        "=\n",
        "\\frac{\\partial}\n",
        "{\\partial{w_{ji}}}\n",
        "\\begin{pmatrix}\n",
        "  \\begin{bmatrix}\n",
        "    w_{11}z_1 + \\ldots + w_{1i}z_i + \\ldots + w_{1l}z_l \\\\\n",
        "    \\vdots \\\\\n",
        "    w_{j1}z_1 + \\ldots + w_{ji}z_i + \\ldots + w_{jl}z_l \\\\\n",
        "    \\vdots \\\\\n",
        "    w_{J1}z_1 + \\ldots + w_{Ji}z_i + \\ldots + w_{Jl}z_l\n",
        "  \\end{bmatrix}\n",
        "  +\n",
        "  \\begin{bmatrix}\n",
        "    b_1 \\\\ \\vdots \\\\ b_j \\\\ \\vdots \\\\ b_J\n",
        "  \\end{bmatrix}\n",
        "\\end{pmatrix}\n",
        "=\n",
        "  \\begin{bmatrix}\n",
        "    0 \\\\ \\vdots \\\\ z_i \\\\ \\vdots \\\\ 0\n",
        "  \\end{bmatrix}\n",
        "\\tag{5}\n",
        "$$\n"
      ]
    },
    {
      "cell_type": "markdown",
      "metadata": {
        "id": "awFtdRyKZfx7"
      },
      "source": [
        "$ (3), (4), (5) $ より、 $ (2) $ は、\n",
        "\n",
        "$$\n",
        "\\frac{\\partial{E}}{\\partial{w_{ji}}^{(2)}}\n",
        "=\n",
        "\\frac{\\partial{E}}{\\partial{\\textbf{y}}}\n",
        "\\frac{\\partial{\\textbf{y}}}{\\partial{\\textbf{u}}}\n",
        "\\frac{\\partial{\\textbf{u}}}{\\partial{w_{ji}}^{(2)}}\n",
        "$$\n"
      ]
    },
    {
      "cell_type": "markdown",
      "metadata": {
        "id": "SCv-iBTcaDFD"
      },
      "source": [
        "$$\n",
        "= ( \\textbf{y} - \\textbf{d}) \\cdot\n",
        "\\begin{bmatrix}\n",
        "  0 \\\\ \\vdots \\\\ z_i \\\\ \\vdots \\\\ 0\n",
        "\\end{bmatrix}\n",
        "=\n",
        "( y_j - d_j ) z_i\n",
        "$$\n"
      ]
    },
    {
      "cell_type": "markdown",
      "metadata": {
        "id": "dn0nkaSx8-Em"
      },
      "source": [
        "## 2. 確認テスト\n",
        "\n",
        "以降の \"page. \" は、講義資料のページの番号です。\n"
      ]
    },
    {
      "cell_type": "markdown",
      "metadata": {
        "id": "jJ_C97ddveGO"
      },
      "source": [
        "### page. 71\n",
        "\n",
        "#### `1_3_stochastic_gradient_descent.ipynb`\n",
        "\n",
        "既に行った計算結果を保持しているソースコードは、以下の通り。\n",
        "\n",
        "```python\n",
        "    # 出力層でのデルタ\n",
        "    delta2 = functions.d_mean_squared_error(d, y)\n",
        "```\n",
        "\n",
        "この結果を、 \"中間層でのデルタ\" の計算に使用している。\n",
        "\n",
        "```python\n",
        "    # 中間層でのデルタ\n",
        "    #delta1 = np.dot(delta2, W2.T) * functions.d_relu(z1)\n",
        "\n",
        "    ## 試してみよう\n",
        "    delta1 = np.dot(delta2, W2.T) * functions.d_sigmoid(z1)\n",
        "```\n"
      ]
    },
    {
      "cell_type": "markdown",
      "metadata": {
        "id": "6mZrpg68zVYv"
      },
      "source": [
        "### page. 76\n",
        "\n",
        "#### `1_3_stochastic_gradient_descent.ipynb`\n",
        "\n",
        "1. $\n",
        "\\frac{\\partial{E}}{\\partial{\\textbf{y}}}\n",
        "\\frac{\\partial{\\textbf{y}}}{\\partial{\\textbf{u}}}\n",
        "$\n",
        "に該当するのは、以下。<br>\n",
        "```python\n",
        "delta2 = functions.d_mean_squared_error(d, y)\n",
        "```\n",
        "<br>\n",
        "$\n",
        "\\frac{\\partial{\\textbf{y}(\\textbf{u})}}{\\partial{\\textbf{u}}}\n",
        "=\n",
        "\\frac{\\partial{\\textbf{u}}}{\\partial{\\textbf{u}}} = 1\n",
        "$\n",
        "により、\n",
        "$\n",
        "\\frac{\\partial{E}}{\\partial{\\textbf{y}}}\n",
        "$\n",
        "と同じである。<br>\n",
        "また、 `d_mean_squared_error` は、\n",
        "$\n",
        "\\frac{\\partial{E(\\textbf{y})}}{\\partial{\\textbf{y}}}\n",
        "=\n",
        "\\textbf{y} - \\textbf{d}\n",
        "$\n",
        "のこと。\n",
        "\n",
        "2. $\n",
        "\\frac{\\partial{E}}{\\partial{\\textbf{y}}}\n",
        "\\frac{\\partial{\\textbf{y}}}{\\partial{\\textbf{u}}}\n",
        "\\frac{\\partial{\\textbf{u}}}{\\partial{w_{ji}}^{(2)}}\n",
        "$\n",
        "に該当するのは、以下。<br>\n",
        "```python\n",
        "grad['W2'] = np.dot(z1.T, delta2)\n",
        "```\n",
        "<br>\n",
        "$\n",
        "\\frac{\\partial{E(\\textbf{y})}}{\\partial{\\textbf{y}}}\n",
        "=\n",
        "\\textbf{y} - \\textbf{d}\n",
        "$\n",
        "と、\n",
        "$\n",
        "\\frac{\\partial{E}}{\\partial{w_{ji}}^{(2)}}\n",
        "=\n",
        "( \\textbf{y} - \\textbf{d}) \\cdot\n",
        "\\begin{bmatrix}\n",
        "  0 \\\\ \\vdots \\\\ z_i \\\\ \\vdots \\\\ 0\n",
        "\\end{bmatrix}\n",
        "$\n",
        "より、<br>\n",
        "$\n",
        "\\frac{\\partial{E(\\textbf{y})}}{\\partial{\\textbf{y}}}\n",
        "\\frac{\\partial{\\textbf{y}}}{\\partial{\\textbf{u}}}\n",
        "\\frac{\\partial{\\textbf{u}}}{\\partial{w_{ji}}^{(2)}}\n",
        "$\n",
        "に該当する。\n"
      ]
    }
  ]
}