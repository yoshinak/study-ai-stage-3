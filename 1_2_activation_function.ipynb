{
  "nbformat": 4,
  "nbformat_minor": 0,
  "metadata": {
    "colab": {
      "name": "1-2-activation-function.ipynb",
      "provenance": [],
      "collapsed_sections": [],
      "toc_visible": true,
      "authorship_tag": "ABX9TyNsc080Zz3Qq4VqHJgH9nUP"
    },
    "kernelspec": {
      "name": "python3",
      "display_name": "Python 3"
    },
    "language_info": {
      "name": "python"
    }
  },
  "cells": [
    {
      "cell_type": "markdown",
      "metadata": {
        "id": "Adnxs5kDc2pd"
      },
      "source": [
        "# Section 2: 活性化関数\n",
        "\n",
        "本書は、「深層学習前編（day1）レポート」の、「Section 2: 活性化関数」についてのものです。\n"
      ]
    },
    {
      "cell_type": "markdown",
      "metadata": {
        "id": "9_jMHYWudCh3"
      },
      "source": [
        "## 1. 要点まとめ\n"
      ]
    },
    {
      "cell_type": "markdown",
      "metadata": {
        "id": "nCkotyAWg48y"
      },
      "source": [
        "page. 6 の「ニューラルネットワークの全体像」の以下の式にあたる。\n",
        "\n",
        "$$\n",
        "f^{(i)} ( u^{(i)} )\n",
        "=\n",
        "\\begin{bmatrix}\n",
        "f^{(i)} ( u_1^{(i)} )\n",
        "\\cdots\n",
        "f^{(i)} ( u_j^{(i)} )\n",
        "\\end{bmatrix}\n",
        "$$\n"
      ]
    },
    {
      "cell_type": "markdown",
      "metadata": {
        "id": "UfEKN1NJiMyi"
      },
      "source": [
        "活性化関数には、中間層用と出力用の物がある。\n",
        "\n",
        "中間層用のものは以下の通り。\n",
        "\n",
        "- ReLU 関数\n",
        "- シグモイド(ロジスティック)関数\n",
        "- ステップ関数\n"
      ]
    },
    {
      "cell_type": "markdown",
      "metadata": {
        "id": "Wr8RHpF0iocJ"
      },
      "source": [
        "主に使われる ReLU 関数の数式は以下の通り。\n",
        "\n",
        "$$\n",
        "f(x)\n",
        "=\n",
        "\\begin{equation}\n",
        "\\begin{cases}\n",
        "x & (x \\gt 0) \\\\\n",
        "0 & (x \\leqq 0)\n",
        "\\end{cases}\n",
        "\\end{equation}\n",
        "$$\n",
        "\n",
        "シグモイド関数に比べて、勾配消失問題を起こしにくい。\n"
      ]
    },
    {
      "cell_type": "markdown",
      "metadata": {
        "id": "mq5DgaJrBUV-"
      },
      "source": [
        "ニューラルネットワークにおいて、活性化関数は一部の出力を弱くし、他方を強く伝播させる効果がある。\n"
      ]
    },
    {
      "cell_type": "markdown",
      "metadata": {
        "id": "dn0nkaSx8-Em"
      },
      "source": [
        "## 2. 確認テスト\n",
        "\n",
        "以降の \"page. \" は、講義資料のページの番号です。\n"
      ]
    },
    {
      "cell_type": "markdown",
      "metadata": {
        "id": "bLEXQCEKbUB2"
      },
      "source": [
        "### page. 20\n",
        "\n",
        "線形、非線形について検討したグラフは、以下の通り。\n"
      ]
    },
    {
      "cell_type": "code",
      "metadata": {
        "id": "J9JgAH5ScG22"
      },
      "source": [
        "%matplotlib inline\n",
        "import numpy as np\n",
        "import matplotlib.pyplot as plt\n"
      ],
      "execution_count": null,
      "outputs": []
    },
    {
      "cell_type": "code",
      "metadata": {
        "colab": {
          "base_uri": "https://localhost:8080/",
          "height": 284
        },
        "id": "sjJ_oN3pccZU",
        "outputId": "f147168c-d577-4224-962e-220f119dbe9a"
      },
      "source": [
        "# 線形\n",
        "x = np.linspace(0, 1, 100)\n",
        "y = 2 * x + 5\n",
        "\n",
        "plt.plot(x, y)\n"
      ],
      "execution_count": null,
      "outputs": [
        {
          "output_type": "execute_result",
          "data": {
            "text/plain": [
              "[<matplotlib.lines.Line2D at 0x7f893328f250>]"
            ]
          },
          "metadata": {},
          "execution_count": 38
        },
        {
          "output_type": "display_data",
          "data": {
            "image/png": "[encoded data removed]",
            "text/plain": [
              "<Figure size 432x288 with 1 Axes>"
            ]
          },
          "metadata": {
            "needs_background": "light"
          }
        }
      ]
    },
    {
      "cell_type": "code",
      "metadata": {
        "colab": {
          "base_uri": "https://localhost:8080/",
          "height": 294
        },
        "id": "zEdqGFWSc2RW",
        "outputId": "6ff0e882-7afe-4658-8ff0-2b6e936ea2db"
      },
      "source": [
        "# 非線形\n",
        "x = np.linspace(-100, 100, 200)\n",
        "y = 2 * x**3 + 5\n",
        "\n",
        "plt.plot(x, y)\n"
      ],
      "execution_count": null,
      "outputs": [
        {
          "output_type": "execute_result",
          "data": {
            "text/plain": [
              "[<matplotlib.lines.Line2D at 0x7f8933203350>]"
            ]
          },
          "metadata": {},
          "execution_count": 39
        },
        {
          "output_type": "display_data",
          "data": {
            "image/png": "[encoded data removed]",
            "text/plain": [
              "<Figure size 432x288 with 1 Axes>"
            ]
          },
          "metadata": {
            "needs_background": "light"
          }
        }
      ]
    },
    {
      "cell_type": "markdown",
      "metadata": {
        "id": "FUrwyGr2d00H"
      },
      "source": [
        "- NOTE: (解答より)<br>\n",
        "加法性、斉次性 について、以下も参照。<br>\n",
        "  - [線型性 - Wikipedia](https://ja.wikipedia.org/wiki/%E7%B7%9A%E5%9E%8B%E6%80%A7)\n"
      ]
    },
    {
      "cell_type": "markdown",
      "metadata": {
        "id": "Tq6RTxF_CBBc"
      },
      "source": [
        "### page. 27\n",
        "\n",
        "`1_1_forward_propagation.ipynb` において、講義で既出のシグモイド関数などが使用されているコートを選択した。\n",
        "\n",
        "#### 順伝播（単層・単ユニット）\n",
        "\n",
        "```python\n",
        "# 中間層出力\n",
        "z = functions.relu(u)\n",
        "```\n",
        "\n",
        "#### 順伝播（単層・複数ユニット）\n",
        "\n",
        "```python\n",
        "# 中間層出力\n",
        "z = functions.sigmoid(u)\n",
        "```\n",
        "\n",
        "#### 順伝播（3層・複数ユニット）\n",
        "\n",
        "```python\n",
        "    # 1層の総出力\n",
        "    z1 = functions.relu(u1)\n",
        "...\n",
        "    # 2層の総出力\n",
        "    z2 = functions.relu(u2)\n",
        "\n",
        "```\n",
        "\n",
        "#### 多クラス分類（2-3-4ネットワーク）\n",
        "\n",
        "```python\n",
        "    # 1層の総出力\n",
        "    z1 = functions.relu(u1)\n",
        "```\n",
        "\n",
        "以下については、中間層のものではなく、出力層の活性化関数である。\n",
        "\n",
        "```python\n",
        "    # 出力値\n",
        "    y = functions.softmax(u2)\n",
        "```\n",
        "\n",
        "#### 回帰（2-3-2ネットワーク）\n",
        "\n",
        "```python\n",
        "    # 隠れ層の総出力\n",
        "    z1 = functions.relu(u1)\n",
        "```\n",
        "\n",
        "#### 2値分類（2-3-1ネットワーク）\n",
        "\n",
        "```python\n",
        "    # 隠れ層の総出力\n",
        "    z1 = functions.relu(u1)\n",
        "```\n"
      ]
    }
  ]
}